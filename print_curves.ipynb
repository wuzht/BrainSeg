{
 "nbformat": 4,
 "nbformat_minor": 2,
 "metadata": {
  "language_info": {
   "name": "python",
   "codemirror_mode": {
    "name": "ipython",
    "version": 3
   },
   "version": "3.7.3-final"
  },
  "orig_nbformat": 2,
  "file_extension": ".py",
  "mimetype": "text/x-python",
  "name": "python",
  "npconvert_exporter": "python",
  "pygments_lexer": "ipython3",
  "version": 3,
  "kernelspec": {
   "name": "python37364bitbaseconda5a13e01208ec465ab6924125a722c264",
   "display_name": "Python 3.7.3 64-bit ('base': conda)"
  }
 },
 "cells": [
  {
   "cell_type": "code",
   "execution_count": null,
   "metadata": {},
   "outputs": [],
   "source": [
    "%load_ext autoreload\n",
    "%autoreload 2\n",
    "\n",
    "%matplotlib inline\n",
    "\n",
    "import os\n",
    "import re\n",
    "import numpy as np\n",
    "import matplotlib.pyplot as plt\n",
    "import sys\n",
    "\n",
    "def show_curve_2(y1s, y2s, title, ylabel, isAcc=False):\n",
    "    x = np.array(range(len(y1s)))\n",
    "    y1 = np.array(y1s)\n",
    "    y2 = np.array(y2s)\n",
    "    plt.plot(x, y1, label='Training') # train\n",
    "    plt.plot(x, y2, label='Validation') # test\n",
    "    plt.axis()\n",
    "    plt.title('{}'.format(title))\n",
    "    plt.xlabel('Epoch')\n",
    "    plt.ylabel('{}'.format(ylabel))\n",
    "    \n",
    "    if isAcc is True:\n",
    "        plt.yticks(np.linspace(0, 1, 11))\n",
    "\n",
    "    plt.legend(loc='best')\n",
    "    plt.grid()\n",
    "    plt.show()\n",
    "    # plt.savefig(\"{}.svg\".format(ylabel))\n",
    "    plt.close()\n",
    "\n",
    "def get_data_from_log(name):\n",
    "    \"\"\"\n",
    "    get accuracy and loss from log file\n",
    "    \"\"\"\n",
    "    # train_accs = []\n",
    "    # val_accs = []\n",
    "    train_losses = []\n",
    "    val_losses = []\n",
    "    with open('exp/{}/exp.log'.format(name), 'r') as f:\n",
    "        for line in f.readlines():\n",
    "            line = line.strip()\n",
    "\n",
    "            # train = re.findall(r'Train.*Acc:.*\\((.*)\\%\\)', line)\n",
    "            # if len(train) > 0:\n",
    "            #     train_accs.append(float(train[0]) / 100)\n",
    "\n",
    "            # val = re.findall(r'Val.*Acc:.*\\((.*)\\%\\)', line)\n",
    "            # if len(val) > 0:\n",
    "            #     val_accs.append(float(val[0]) / 100)\n",
    "\n",
    "            train_loss = re.findall(r'Train Loss: (.*)', line)\n",
    "            if len(train_loss) > 0:\n",
    "                train_losses.append(float(train_loss[0]))\n",
    "            \n",
    "            val_loss = re.findall(r'Val.*Loss: (.*)', line)\n",
    "            if len(val_loss) > 0:\n",
    "                val_losses.append(float(val_loss[0]))\n",
    "    # return train_accs, val_accs, train_losses, val_losses\n",
    "    return train_losses, val_losses"
   ]
  },
  {
   "cell_type": "code",
   "execution_count": null,
   "metadata": {},
   "outputs": [],
   "source": [
    "# print(argv)\n",
    "# train_accs, val_accs, train_losses, val_losses = get_data_from_log(argv[0])\n",
    "# show_curve_2(train_accs, val_accs, 'Accuracy', 'Accuracy', True)\n",
    "#     show_curve_2(train_losses, val_losses, 'Loss', 'Loss', False)\n",
    "\n",
    "train_losses, val_losses = get_data_from_log(\"CW-brains18=0315-163137\")\n",
    "print(train_losses, val_losses)\n",
    "len(train_losses)"
   ]
  },
  {
   "cell_type": "code",
   "execution_count": null,
   "metadata": {},
   "outputs": [],
   "source": [
    "show_curve_2(train_losses, val_losses, \"loss\", \"loss\", isAcc=False)"
   ]
  },
  {
   "cell_type": "code",
   "execution_count": null,
   "metadata": {},
   "outputs": [],
   "source": []
  }
 ]
}