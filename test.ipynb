{
 "nbformat": 4,
 "nbformat_minor": 2,
 "metadata": {
  "language_info": {
   "name": "python",
   "codemirror_mode": {
    "name": "ipython",
    "version": 3
   },
   "version": "3.7.3-final"
  },
  "orig_nbformat": 2,
  "file_extension": ".py",
  "mimetype": "text/x-python",
  "name": "python",
  "npconvert_exporter": "python",
  "pygments_lexer": "ipython3",
  "version": 3,
  "kernelspec": {
   "name": "python37364bitbaseconda5a13e01208ec465ab6924125a722c264",
   "display_name": "Python 3.7.3 64-bit ('base': conda)"
  }
 },
 "cells": [
  {
   "cell_type": "code",
   "execution_count": null,
   "metadata": {},
   "outputs": [],
   "source": [
    "import torch\n",
    "import torch.nn as nn\n",
    "from torch.nn import CrossEntropyLoss\n",
    "import numpy as np\n",
    "out = torch.Tensor(np.array([[\n",
    "    [\n",
    "        [1.,1, 1], \n",
    "        [0, 0, 0], \n",
    "        [0, 0, 0],\n",
    "        [0, 0, 0]\n",
    "    ],\n",
    "    [\n",
    "        [0, 0, 0],\n",
    "        [1, 1, 1],\n",
    "        [0, 0.,0],\n",
    "        [0, 0, 0]\n",
    "    ],\n",
    "    [\n",
    "        [0, 0, 0],\n",
    "        [0, 0, 0],\n",
    "        [1, 1, 1],\n",
    "        [0, 0, 0]\n",
    "    ],\n",
    "    [\n",
    "        [0, 0, 0],\n",
    "        [0, 0, 0],\n",
    "        [0, 0, 0],\n",
    "        [1, 1, 1]\n",
    "    ]\n",
    "]]))\n",
    "\n",
    "target = torch.Tensor([[\n",
    "    [0, 0, 0],\n",
    "    [1, 1, 1],\n",
    "    [2, 2, 2],\n",
    "    [3, 3, 3]\n",
    "]]).type('torch.LongTensor')\n",
    "criterion = CrossEntropyLoss()\n"
   ]
  },
  {
   "cell_type": "code",
   "execution_count": null,
   "metadata": {},
   "outputs": [],
   "source": [
    "# print(out.shape)\n",
    "# print(target.shape)\n",
    "# print(criterion(out, target))\n",
    "# values, indices = torch.max(out, dim=1)\n",
    "# print(values, indices)\n",
    "# print(indices.shape)\n",
    "\n",
    "# print(target)\n",
    "# print(target==3)\n",
    "# print(np.sum(target.numpy()==3))\n",
    "\n",
    "a = torch.zeros((2, 5, 5), dtype=torch.float)\n",
    "print(a)\n",
    "print(a.shape)\n",
    "a[0] = 5\n",
    "print(a)\n"
   ]
  },
  {
   "cell_type": "code",
   "execution_count": null,
   "metadata": {},
   "outputs": [],
   "source": [
    "sm = nn.Softmax(dim=1)\n",
    "print(sm(out))"
   ]
  },
  {
   "cell_type": "code",
   "execution_count": null,
   "metadata": {},
   "outputs": [],
   "source": [
    "print(torch.log(sm(out)))"
   ]
  },
  {
   "cell_type": "code",
   "execution_count": null,
   "metadata": {},
   "outputs": [],
   "source": [
    "loss = nn.NLLLoss()\n",
    "print(loss(torch.log(sm(out)), target))"
   ]
  },
  {
   "cell_type": "code",
   "execution_count": null,
   "metadata": {},
   "outputs": [],
   "source": [
    "print(np.zeros(4))"
   ]
  },
  {
   "cell_type": "code",
   "execution_count": 53,
   "metadata": {},
   "outputs": [
    {
     "output_type": "stream",
     "name": "stdout",
     "text": "tensor([[1., 1., 1., 1., 1.],\n        [1., 1., 1., 1., 1.],\n        [1., 1., 1., 1., 1.],\n        [1., 1., 1., 1., 1.],\n        [1., 1., 1., 1., 1.]])\n"
    }
   ],
   "source": [
    "import torch\n",
    "import torch.nn as nn\n",
    "\n",
    "m = nn.Dropout(p=0.3)\n",
    "input = torch.ones( 5, 5)\n",
    "print(input)\n",
    ""
   ]
  },
  {
   "cell_type": "code",
   "execution_count": 54,
   "metadata": {},
   "outputs": [
    {
     "output_type": "stream",
     "name": "stdout",
     "text": "tensor(1.)\n"
    }
   ],
   "source": [
    "print(input.mean())"
   ]
  },
  {
   "cell_type": "code",
   "execution_count": 55,
   "metadata": {},
   "outputs": [
    {
     "output_type": "stream",
     "name": "stdout",
     "text": "tensor([[1.4286, 1.4286, 1.4286, 1.4286, 1.4286],\n        [0.0000, 0.0000, 1.4286, 0.0000, 1.4286],\n        [0.0000, 0.0000, 1.4286, 0.0000, 1.4286],\n        [1.4286, 0.0000, 0.0000, 1.4286, 1.4286],\n        [1.4286, 1.4286, 1.4286, 0.0000, 1.4286]])\n"
    }
   ],
   "source": [
    "output = m(input)\n",
    "print(output)"
   ]
  },
  {
   "cell_type": "code",
   "execution_count": 56,
   "metadata": {},
   "outputs": [
    {
     "output_type": "stream",
     "name": "stdout",
     "text": "tensor([[1.4286, 1.4286, 1.4286, 1.4286, 1.4286],\n        [1.4286, 1.4286, 1.4286, 1.4286, 1.4286],\n        [1.4286, 1.4286, 1.4286, 1.4286, 1.4286],\n        [1.4286, 1.4286, 1.4286, 1.4286, 1.4286],\n        [1.4286, 1.4286, 1.4286, 1.4286, 1.4286]])\n"
    }
   ],
   "source": [
    "print(input/0.7)"
   ]
  },
  {
   "cell_type": "code",
   "execution_count": 61,
   "metadata": {},
   "outputs": [
    {
     "output_type": "stream",
     "name": "stdout",
     "text": "tensor(0.6400)\n"
    }
   ],
   "source": [
    "print((output*.7).mean())"
   ]
  },
  {
   "cell_type": "code",
   "execution_count": null,
   "metadata": {},
   "outputs": [],
   "source": []
  }
 ]
}