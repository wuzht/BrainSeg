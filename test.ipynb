{
 "nbformat": 4,
 "nbformat_minor": 2,
 "metadata": {
  "language_info": {
   "name": "python",
   "codemirror_mode": {
    "name": "ipython",
    "version": 3
   },
   "version": "3.7.3-final"
  },
  "orig_nbformat": 2,
  "file_extension": ".py",
  "mimetype": "text/x-python",
  "name": "python",
  "npconvert_exporter": "python",
  "pygments_lexer": "ipython3",
  "version": 3,
  "kernelspec": {
   "name": "python37364bitbaseconda5a13e01208ec465ab6924125a722c264",
   "display_name": "Python 3.7.3 64-bit ('base': conda)"
  }
 },
 "cells": [
  {
   "cell_type": "code",
   "execution_count": 15,
   "metadata": {},
   "outputs": [],
   "source": [
    "import torch\n",
    "import torch.nn as nn\n",
    "from torch.nn import CrossEntropyLoss\n",
    "import numpy as np\n",
    "out = torch.Tensor(np.array([[\n",
    "    [\n",
    "        [1.,1, 1], \n",
    "        [0, 0, 0], \n",
    "        [0, 0, 0],\n",
    "        [0, 0, 0]\n",
    "    ],\n",
    "    [\n",
    "        [0, 0, 0],\n",
    "        [1, 1, 1],\n",
    "        [0, 0.,0],\n",
    "        [0, 0, 0]\n",
    "    ],\n",
    "    [\n",
    "        [0, 0, 0],\n",
    "        [0, 0, 0],\n",
    "        [1, 1, 1],\n",
    "        [0, 0, 0]\n",
    "    ],\n",
    "    [\n",
    "        [0, 0, 0],\n",
    "        [0, 0, 0],\n",
    "        [0, 0, 0],\n",
    "        [1, 1, 1]\n",
    "    ]\n",
    "]]))\n",
    "\n",
    "target = torch.Tensor([[\n",
    "    [0, 0, 0],\n",
    "    [1, 1, 1],\n",
    "    [2, 2, 2],\n",
    "    [3, 3, 3]\n",
    "]]).type('torch.LongTensor')\n",
    "criterion = CrossEntropyLoss()\n"
   ]
  },
  {
   "cell_type": "code",
   "execution_count": 21,
   "metadata": {},
   "outputs": [
    {
     "name": "stdout",
     "output_type": "stream",
     "text": "torch.Size([1, 4, 4, 3])\ntorch.Size([1, 4, 3])\ntensor(0.7437)\ntensor([[[1., 1., 1.],\n         [1., 1., 1.],\n         [1., 1., 1.],\n         [1., 1., 1.]]]) tensor([[[0, 0, 0],\n         [1, 1, 1],\n         [2, 2, 2],\n         [3, 3, 3]]])\ntorch.Size([1, 4, 3])\n"
    }
   ],
   "source": [
    "print(out.shape)\n",
    "print(target.shape)\n",
    "print(criterion(out, target))\n",
    "values, indices = torch.max(out, dim=1)\n",
    "print(values, indices)\n",
    "print(indices.shape)\n"
   ]
  },
  {
   "cell_type": "code",
   "execution_count": 4,
   "metadata": {},
   "outputs": [
    {
     "name": "stdout",
     "output_type": "stream",
     "text": "tensor([[[[0.4754, 0.4754, 0.4754],\n          [0.1749, 0.1749, 0.1749],\n          [0.1749, 0.1749, 0.1749],\n          [0.1749, 0.1749, 0.1749]],\n\n         [[0.1749, 0.1749, 0.1749],\n          [0.4754, 0.4754, 0.4754],\n          [0.1749, 0.1749, 0.1749],\n          [0.1749, 0.1749, 0.1749]],\n\n         [[0.1749, 0.1749, 0.1749],\n          [0.1749, 0.1749, 0.1749],\n          [0.4754, 0.4754, 0.4754],\n          [0.1749, 0.1749, 0.1749]],\n\n         [[0.1749, 0.1749, 0.1749],\n          [0.1749, 0.1749, 0.1749],\n          [0.1749, 0.1749, 0.1749],\n          [0.4754, 0.4754, 0.4754]]]])\n"
    }
   ],
   "source": [
    "sm = nn.Softmax(dim=1)\n",
    "print(sm(out))"
   ]
  },
  {
   "cell_type": "code",
   "execution_count": 5,
   "metadata": {},
   "outputs": [
    {
     "name": "stdout",
     "output_type": "stream",
     "text": "tensor([[[[-0.7437, -0.7437, -0.7437],\n          [-1.7437, -1.7437, -1.7437],\n          [-1.7437, -1.7437, -1.7437],\n          [-1.7437, -1.7437, -1.7437]],\n\n         [[-1.7437, -1.7437, -1.7437],\n          [-0.7437, -0.7437, -0.7437],\n          [-1.7437, -1.7437, -1.7437],\n          [-1.7437, -1.7437, -1.7437]],\n\n         [[-1.7437, -1.7437, -1.7437],\n          [-1.7437, -1.7437, -1.7437],\n          [-0.7437, -0.7437, -0.7437],\n          [-1.7437, -1.7437, -1.7437]],\n\n         [[-1.7437, -1.7437, -1.7437],\n          [-1.7437, -1.7437, -1.7437],\n          [-1.7437, -1.7437, -1.7437],\n          [-0.7437, -0.7437, -0.7437]]]])\n"
    }
   ],
   "source": [
    "print(torch.log(sm(out)))"
   ]
  },
  {
   "cell_type": "code",
   "execution_count": 6,
   "metadata": {},
   "outputs": [
    {
     "name": "stdout",
     "output_type": "stream",
     "text": "tensor(0.7437)\n"
    }
   ],
   "source": [
    "loss = nn.NLLLoss()\n",
    "print(loss(torch.log(sm(out)), target))"
   ]
  },
  {
   "cell_type": "code",
   "execution_count": 26,
   "metadata": {},
   "outputs": [
    {
     "name": "stdout",
     "output_type": "stream",
     "text": "[0. 0. 0. 0.]\n"
    }
   ],
   "source": [
    "print(np.zeros(4))"
   ]
  },
  {
   "cell_type": "code",
   "execution_count": null,
   "metadata": {},
   "outputs": [],
   "source": []
  }
 ]
}