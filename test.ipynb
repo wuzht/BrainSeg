{
 "nbformat": 4,
 "nbformat_minor": 2,
 "metadata": {
  "language_info": {
   "name": "python",
   "codemirror_mode": {
    "name": "ipython",
    "version": 3
   },
   "version": "3.7.3-final"
  },
  "orig_nbformat": 2,
  "file_extension": ".py",
  "mimetype": "text/x-python",
  "name": "python",
  "npconvert_exporter": "python",
  "pygments_lexer": "ipython3",
  "version": 3,
  "kernelspec": {
   "name": "python37364bitbaseconda5a13e01208ec465ab6924125a722c264",
   "display_name": "Python 3.7.3 64-bit ('base': conda)"
  }
 },
 "cells": [
  {
   "cell_type": "code",
   "execution_count": null,
   "metadata": {},
   "outputs": [],
   "source": [
    "import torch\n",
    "import torch.nn as nn\n",
    "from torch.nn import CrossEntropyLoss\n",
    "import numpy as np\n",
    "out = torch.Tensor(np.array([[\n",
    "    [\n",
    "        [1.,1, 1], \n",
    "        [0, 0, 0], \n",
    "        [0, 0, 0],\n",
    "        [0, 0, 0]\n",
    "    ],\n",
    "    [\n",
    "        [0, 0, 0],\n",
    "        [1, 1, 1],\n",
    "        [0, 0.,0],\n",
    "        [0, 0, 0]\n",
    "    ],\n",
    "    [\n",
    "        [0, 0, 0],\n",
    "        [0, 0, 0],\n",
    "        [1, 1, 1],\n",
    "        [0, 0, 0]\n",
    "    ],\n",
    "    [\n",
    "        [0, 0, 0],\n",
    "        [0, 0, 0],\n",
    "        [0, 0, 0],\n",
    "        [1, 1, 1]\n",
    "    ]\n",
    "]]))\n",
    "\n",
    "target = torch.Tensor([[\n",
    "    [0, 0, 0],\n",
    "    [1, 1, 1],\n",
    "    [2, 2, 2],\n",
    "    [3, 3, 2]\n",
    "]]).type('torch.LongTensor')\n",
    "# criterion = CrossEntropyLoss()\n",
    "\n",
    "metric = torch.Tensor([[\n",
    "    [111, 111, 111],\n",
    "    [222, 222, 222],\n",
    "    [333, 333, 333],\n",
    "    [444, 444, 444]\n",
    "]]).type('torch.LongTensor')\n",
    "\n",
    "out = out.numpy()\n",
    "target = target.numpy()\n",
    "metric = metric.numpy()\n",
    ""
   ]
  },
  {
   "cell_type": "code",
   "execution_count": null,
   "metadata": {},
   "outputs": [],
   "source": [
    "print(type(out), type(target))\n",
    "\n",
    "print(target == 3)\n",
    "print(np.sum(target==3))\n",
    "print(metric[target==2])\n",
    "print(np.sum(metric[target==2]))"
   ]
  },
  {
   "cell_type": "code",
   "execution_count": null,
   "metadata": {},
   "outputs": [],
   "source": [
    "assert(1==1)"
   ]
  },
  {
   "cell_type": "code",
   "execution_count": null,
   "metadata": {},
   "outputs": [],
   "source": [
    "# print(out.shape)\n",
    "# print(target.shape)\n",
    "# print(criterion(out, target))\n",
    "# values, indices = torch.max(out, dim=1)\n",
    "# print(values, indices)\n",
    "# print(indices.shape)\n",
    "\n",
    "# print(target)\n",
    "# print(target==3)\n",
    "# print(np.sum(target.numpy()==3))\n",
    "\n",
    "a = torch.zeros((2, 5, 5), dtype=torch.float)\n",
    "print(a)\n",
    "print(a.shape)\n",
    "a[0] = 5\n",
    "print(a)\n",
    ""
   ]
  },
  {
   "cell_type": "code",
   "execution_count": null,
   "metadata": {},
   "outputs": [],
   "source": [
    "sm = nn.Softmax(dim=1)\n",
    "print(sm(out))"
   ]
  },
  {
   "cell_type": "code",
   "execution_count": null,
   "metadata": {},
   "outputs": [],
   "source": [
    "print(torch.log(sm(out)))"
   ]
  },
  {
   "cell_type": "code",
   "execution_count": null,
   "metadata": {},
   "outputs": [],
   "source": [
    "loss = nn.NLLLoss()\n",
    "print(loss(torch.log(sm(out)), target))"
   ]
  },
  {
   "cell_type": "code",
   "execution_count": null,
   "metadata": {},
   "outputs": [],
   "source": [
    "print(np.zeros(4))"
   ]
  },
  {
   "cell_type": "code",
   "execution_count": null,
   "metadata": {},
   "outputs": [],
   "source": [
    "import torch\n",
    "import torch.nn as nn\n",
    "\n",
    "m = nn.Dropout(p=0.3)\n",
    "input = torch.ones( 5, 5)\n",
    "print(input)\n",
    ""
   ]
  },
  {
   "cell_type": "code",
   "execution_count": null,
   "metadata": {},
   "outputs": [],
   "source": [
    "print(input.mean())"
   ]
  },
  {
   "cell_type": "code",
   "execution_count": null,
   "metadata": {},
   "outputs": [],
   "source": [
    "output = m(input)\n",
    "print(output)"
   ]
  },
  {
   "cell_type": "code",
   "execution_count": null,
   "metadata": {},
   "outputs": [],
   "source": [
    "print(input/0.7)"
   ]
  },
  {
   "cell_type": "code",
   "execution_count": null,
   "metadata": {},
   "outputs": [],
   "source": [
    "print((output*.7).mean())"
   ]
  },
  {
   "cell_type": "code",
   "execution_count": null,
   "metadata": {},
   "outputs": [],
   "source": [
    "import torch\n",
    "print(torch.cuda.is_available())\n",
    "print(torch.cuda.current_device())\n",
    "print(torch.cuda.current_stream())\n",
    "print(torch.cuda.device_count())\n",
    "print(torch.cuda.get_device_name())"
   ]
  },
  {
   "cell_type": "code",
   "execution_count": null,
   "metadata": {},
   "outputs": [],
   "source": [
    "print(torch.cuda.current_device())\n",
    "device = torch.device('cuda:7')\n",
    "torch.cuda.set_device(device)\n",
    "print(torch.cuda.current_device())\n",
    ""
   ]
  },
  {
   "cell_type": "code",
   "execution_count": null,
   "metadata": {},
   "outputs": [],
   "source": [
    "tt = torch.ones(5,5).cuda()\n",
    "print(tt)"
   ]
  },
  {
   "cell_type": "code",
   "execution_count": null,
   "metadata": {},
   "outputs": [],
   "source": [
    "import torch\n",
    "import torch.nn as nn\n",
    "import torch.nn.functional as F\n",
    "input = torch.ones( 5, 5)\n",
    "print(input)\n",
    "m = nn.Dropout(p=0.6)\n",
    "m.train()\n",
    "print(F.dropout(input, p=0.6, training=False))\n",
    "print(m(input))\n",
    "m.eval()\n",
    "print(m(input))"
   ]
  },
  {
   "cell_type": "code",
   "execution_count": null,
   "metadata": {},
   "outputs": [],
   "source": []
  }
 ]
}