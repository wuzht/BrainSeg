{
 "cells": [
  {
   "cell_type": "code",
   "execution_count": 1,
   "metadata": {},
   "outputs": [],
   "source": [
    "%load_ext autoreload\n",
    "%autoreload 2\n",
    "\n",
    "%matplotlib inline"
   ]
  },
  {
   "cell_type": "code",
   "execution_count": null,
   "metadata": {},
   "outputs": [],
   "source": [
    "import matplotlib.pyplot as plt\n",
    "import matplotlib\n",
    "\n",
    "import matplotlib.image as mpimg\n",
    "import numpy as np\n",
    "import os\n",
    "\n",
    "def showData(directory, img_id):\n",
    "    file_names = [str(img_id) + x for x in ['_FLAIR.png', '_reg_IR.png', '_reg_T1.png', '_segm.png']]\n",
    "    imgs = [mpimg.imread(os.path.join(directory, file_name)) for file_name in file_names]\n",
    "    imgs[3] *= 255\n",
    "\n",
    "    fig, axs = plt.subplots(2,2, sharey=True, figsize=(10,8))\n",
    "    axs[0][0].set_title(file_names[0])\n",
    "    axs[0][1].set_title(file_names[1])\n",
    "    axs[1][0].set_title(file_names[2])\n",
    "    axs[1][1].set_title(file_names[3])\n",
    "\n",
    "    ax00 = axs[0][0].imshow(imgs[0], aspect=\"auto\", cmap=\"gray\")\n",
    "    ax01 = axs[0][1].imshow(imgs[1], aspect=\"auto\", cmap=\"gray\")\n",
    "    ax10 = axs[1][0].imshow(imgs[2], aspect=\"auto\", cmap=\"gray\")\n",
    "    ax11 = axs[1][1].imshow(imgs[3], aspect=\"auto\", cmap=plt.cm.get_cmap('tab10', 10), vmin=0, vmax=9)\n",
    "\n",
    "    fig.colorbar(ax00, ax=axs[0][0])\n",
    "    fig.colorbar(ax01, ax=axs[0][1])\n",
    "    fig.colorbar(ax10, ax=axs[1][0])\n",
    "    fig.colorbar(ax11, ax=axs[1][1])\n",
    "\n",
    "    fig.suptitle(directory)\n",
    "    plt.show()\n",
    "\n",
    "    # for img in imgs:\n",
    "    #     print(img_id, type(img), img.shape, 'min', (img).min(), 'max', (img).max())\n",
    "\n",
    "    print(img_id, type(imgs[3]), imgs[3].shape, 'min', imgs[3].min(), 'max', imgs[3].max())"
   ]
  },
  {
   "cell_type": "code",
   "execution_count": null,
   "metadata": {},
   "outputs": [],
   "source": [
    "# folders = ['{}_img'.format(x) for x in ['1', '5', '7', '4', '148', '070', '14']]\n",
    "# folders = ['1', '5', '7', '4', '148', '070', '14']\n",
    "folders = ['070']\n",
    "for folder in folders:\n",
    "    print(folder)\n",
    "    for i in range(7, 15):\n",
    "        showData(directory='./datasets/BrainS18/'+folder, img_id=i)"
   ]
  },
  {
   "cell_type": "code",
   "execution_count": 7,
   "metadata": {},
   "outputs": [
    {
     "name": "stdout",
     "output_type": "stream",
     "text": "336\n"
    }
   ],
   "source": [
    "from brains18 import BrainS18Dataset\n",
    "data = BrainS18Dataset()\n",
    "print(len(data))"
   ]
  },
  {
   "cell_type": "code",
   "execution_count": 8,
   "metadata": {},
   "outputs": [],
   "source": [
    "class_num, class_weight = data.get_class_weight()"
   ]
  },
  {
   "cell_type": "code",
   "execution_count": 10,
   "metadata": {},
   "outputs": [
    {
     "name": "stdout",
     "output_type": "stream",
     "text": "[15670571.  1218764.    72971.   868627.    55912.   998396.   104281.\n   300093.    61897.] [0.0010017227889080333, 0.012879907911540995, 0.21512063814256827, 0.018071701761402017, 0.28075490209438675, 0.01572278743695022, 0.15053143032672636, 0.05230901115954504, 0.25360789837797226]\n0.9999999999999999\n"
    }
   ],
   "source": [
    "print(class_num, class_weight)\n",
    "print(sum(class_weight))"
   ]
  },
  {
   "cell_type": "code",
   "execution_count": null,
   "metadata": {},
   "outputs": [],
   "source": []
  }
 ],
 "metadata": {
  "kernelspec": {
   "display_name": "Python 3",
   "language": "python",
   "name": "python3"
  },
  "language_info": {
   "codemirror_mode": {
    "name": "ipython",
    "version": 3
   },
   "file_extension": ".py",
   "mimetype": "text/x-python",
   "name": "python",
   "nbconvert_exporter": "python",
   "pygments_lexer": "ipython3",
   "version": "3.7.3-final"
  }
 },
 "nbformat": 4,
 "nbformat_minor": 2
}